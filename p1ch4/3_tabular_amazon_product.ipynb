{
 "cells": [
  {
   "cell_type": "code",
   "execution_count": 13,
   "metadata": {},
   "outputs": [],
   "source": [
    "import numpy as np\n",
    "import pandas as pd\n",
    "import torch\n",
    "torch.set_printoptions(edgeitems=2, precision=2, linewidth=75)"
   ]
  },
  {
   "cell_type": "markdown",
   "metadata": {},
   "source": [
    "Data source: https://www.kaggle.com/datasets/asaniczka/amazon-products-dataset-2023-1-4m-products?select=amazon_products.csv"
   ]
  },
  {
   "cell_type": "code",
   "execution_count": 16,
   "metadata": {},
   "outputs": [
    {
     "data": {
      "text/html": [
       "<div>\n",
       "<style scoped>\n",
       "    .dataframe tbody tr th:only-of-type {\n",
       "        vertical-align: middle;\n",
       "    }\n",
       "\n",
       "    .dataframe tbody tr th {\n",
       "        vertical-align: top;\n",
       "    }\n",
       "\n",
       "    .dataframe thead th {\n",
       "        text-align: right;\n",
       "    }\n",
       "</style>\n",
       "<table border=\"1\" class=\"dataframe\">\n",
       "  <thead>\n",
       "    <tr style=\"text-align: right;\">\n",
       "      <th></th>\n",
       "      <th>asin</th>\n",
       "      <th>title</th>\n",
       "      <th>imgUrl</th>\n",
       "      <th>productURL</th>\n",
       "      <th>stars</th>\n",
       "      <th>reviews</th>\n",
       "      <th>price</th>\n",
       "      <th>listPrice</th>\n",
       "      <th>category_id</th>\n",
       "      <th>isBestSeller</th>\n",
       "      <th>boughtInLastMonth</th>\n",
       "    </tr>\n",
       "  </thead>\n",
       "  <tbody>\n",
       "    <tr>\n",
       "      <th>0</th>\n",
       "      <td>B014TMV5YE</td>\n",
       "      <td>Sion Softside Expandable Roller Luggage, Black...</td>\n",
       "      <td>https://m.media-amazon.com/images/I/815dLQKYIY...</td>\n",
       "      <td>https://www.amazon.com/dp/B014TMV5YE</td>\n",
       "      <td>4.5</td>\n",
       "      <td>0</td>\n",
       "      <td>139.99</td>\n",
       "      <td>0.00</td>\n",
       "      <td>104</td>\n",
       "      <td>False</td>\n",
       "      <td>2000</td>\n",
       "    </tr>\n",
       "    <tr>\n",
       "      <th>1</th>\n",
       "      <td>B07GDLCQXV</td>\n",
       "      <td>Luggage Sets Expandable PC+ABS Durable Suitcas...</td>\n",
       "      <td>https://m.media-amazon.com/images/I/81bQlm7vf6...</td>\n",
       "      <td>https://www.amazon.com/dp/B07GDLCQXV</td>\n",
       "      <td>4.5</td>\n",
       "      <td>0</td>\n",
       "      <td>169.99</td>\n",
       "      <td>209.99</td>\n",
       "      <td>104</td>\n",
       "      <td>False</td>\n",
       "      <td>1000</td>\n",
       "    </tr>\n",
       "    <tr>\n",
       "      <th>2</th>\n",
       "      <td>B07XSCCZYG</td>\n",
       "      <td>Platinum Elite Softside Expandable Checked Lug...</td>\n",
       "      <td>https://m.media-amazon.com/images/I/71EA35zvJB...</td>\n",
       "      <td>https://www.amazon.com/dp/B07XSCCZYG</td>\n",
       "      <td>4.6</td>\n",
       "      <td>0</td>\n",
       "      <td>365.49</td>\n",
       "      <td>429.99</td>\n",
       "      <td>104</td>\n",
       "      <td>False</td>\n",
       "      <td>300</td>\n",
       "    </tr>\n",
       "    <tr>\n",
       "      <th>3</th>\n",
       "      <td>B08MVFKGJM</td>\n",
       "      <td>Freeform Hardside Expandable with Double Spinn...</td>\n",
       "      <td>https://m.media-amazon.com/images/I/91k6NYLQyI...</td>\n",
       "      <td>https://www.amazon.com/dp/B08MVFKGJM</td>\n",
       "      <td>4.6</td>\n",
       "      <td>0</td>\n",
       "      <td>291.59</td>\n",
       "      <td>354.37</td>\n",
       "      <td>104</td>\n",
       "      <td>False</td>\n",
       "      <td>400</td>\n",
       "    </tr>\n",
       "    <tr>\n",
       "      <th>4</th>\n",
       "      <td>B01DJLKZBA</td>\n",
       "      <td>Winfield 2 Hardside Expandable Luggage with Sp...</td>\n",
       "      <td>https://m.media-amazon.com/images/I/61NJoaZcP9...</td>\n",
       "      <td>https://www.amazon.com/dp/B01DJLKZBA</td>\n",
       "      <td>4.5</td>\n",
       "      <td>0</td>\n",
       "      <td>174.99</td>\n",
       "      <td>309.99</td>\n",
       "      <td>104</td>\n",
       "      <td>False</td>\n",
       "      <td>400</td>\n",
       "    </tr>\n",
       "  </tbody>\n",
       "</table>\n",
       "</div>"
      ],
      "text/plain": [
       "         asin                                              title  \\\n",
       "0  B014TMV5YE  Sion Softside Expandable Roller Luggage, Black...   \n",
       "1  B07GDLCQXV  Luggage Sets Expandable PC+ABS Durable Suitcas...   \n",
       "2  B07XSCCZYG  Platinum Elite Softside Expandable Checked Lug...   \n",
       "3  B08MVFKGJM  Freeform Hardside Expandable with Double Spinn...   \n",
       "4  B01DJLKZBA  Winfield 2 Hardside Expandable Luggage with Sp...   \n",
       "\n",
       "                                              imgUrl  \\\n",
       "0  https://m.media-amazon.com/images/I/815dLQKYIY...   \n",
       "1  https://m.media-amazon.com/images/I/81bQlm7vf6...   \n",
       "2  https://m.media-amazon.com/images/I/71EA35zvJB...   \n",
       "3  https://m.media-amazon.com/images/I/91k6NYLQyI...   \n",
       "4  https://m.media-amazon.com/images/I/61NJoaZcP9...   \n",
       "\n",
       "                             productURL  stars  reviews   price  listPrice  \\\n",
       "0  https://www.amazon.com/dp/B014TMV5YE    4.5        0  139.99       0.00   \n",
       "1  https://www.amazon.com/dp/B07GDLCQXV    4.5        0  169.99     209.99   \n",
       "2  https://www.amazon.com/dp/B07XSCCZYG    4.6        0  365.49     429.99   \n",
       "3  https://www.amazon.com/dp/B08MVFKGJM    4.6        0  291.59     354.37   \n",
       "4  https://www.amazon.com/dp/B01DJLKZBA    4.5        0  174.99     309.99   \n",
       "\n",
       "   category_id  isBestSeller  boughtInLastMonth  \n",
       "0          104         False               2000  \n",
       "1          104         False               1000  \n",
       "2          104         False                300  \n",
       "3          104         False                400  \n",
       "4          104         False                400  "
      ]
     },
     "execution_count": 16,
     "metadata": {},
     "output_type": "execute_result"
    }
   ],
   "source": [
    "import csv\n",
    "amazon_product_path = \"../data/p1ch4/amazon_products/amazon_products.csv\"\n",
    "amazon_product_df = pd.read_csv(amazon_product_path)\n",
    "amazon_product_df.head()"
   ]
  },
  {
   "cell_type": "code",
   "execution_count": 23,
   "metadata": {},
   "outputs": [
    {
     "name": "stdout",
     "output_type": "stream",
     "text": [
      "First row in dataset\n",
      " asin                                                        B014TMV5YE\n",
      "title                Sion Softside Expandable Roller Luggage, Black...\n",
      "imgUrl               https://m.media-amazon.com/images/I/815dLQKYIY...\n",
      "productURL                        https://www.amazon.com/dp/B014TMV5YE\n",
      "stars                                                              4.5\n",
      "reviews                                                              0\n",
      "price                                                           139.99\n",
      "listPrice                                                          0.0\n",
      "category_id                                                        104\n",
      "isBestSeller                                                     False\n",
      "boughtInLastMonth                                                 2000\n",
      "Name: 0, dtype: object\n",
      "Shape of the dataset (number of records x number of features): (1426337, 11)\n"
     ]
    }
   ],
   "source": [
    "print(\"First row in dataset\\n\", amazon_product_df.iloc[0])\n",
    "print(\"Shape of the dataset (number of records x number of features):\", amazon_product_df.shape)"
   ]
  },
  {
   "cell_type": "code",
   "execution_count": 30,
   "metadata": {},
   "outputs": [
    {
     "data": {
      "text/plain": [
       "(torch.Size([1426337, 6]), torch.float64)"
      ]
     },
     "execution_count": 30,
     "metadata": {},
     "output_type": "execute_result"
    }
   ],
   "source": [
    "# select numerical columns. tensor can include booleans but the tensors would become mixed types which is error-prone\n",
    "amazon_product = torch.from_numpy(amazon_product_df[['stars', 'reviews', 'price', 'listPrice', 'category_id', 'boughtInLastMonth']].values)\n",
    "\n",
    "amazon_product.shape, amazon_product.dtype"
   ]
  },
  {
   "cell_type": "code",
   "execution_count": 31,
   "metadata": {},
   "outputs": [
    {
     "data": {
      "text/plain": [
       "(tensor([[  4.50,   0.00,  ...,   0.00, 104.00],\n",
       "         [  4.50,   0.00,  ..., 209.99, 104.00],\n",
       "         ...,\n",
       "         [  4.50,   0.00,  ...,  57.39, 112.00],\n",
       "         [  4.90,   0.00,  ...,   0.00, 112.00]], dtype=torch.float64),\n",
       " torch.Size([1426337, 5]))"
      ]
     },
     "execution_count": 31,
     "metadata": {},
     "output_type": "execute_result"
    }
   ],
   "source": [
    "data = amazon_product[:, :-1] # deselect the last column\n",
    "data, data.shape"
   ]
  },
  {
   "cell_type": "code",
   "execution_count": 32,
   "metadata": {},
   "outputs": [
    {
     "data": {
      "text/plain": [
       "(tensor([2000., 1000.,  ...,    0.,    0.], dtype=torch.float64),\n",
       " torch.Size([1426337]))"
      ]
     },
     "execution_count": 32,
     "metadata": {},
     "output_type": "execute_result"
    }
   ],
   "source": [
    "target = amazon_product[:, -1] # select all rows for the last column\n",
    "target, target.shape"
   ]
  },
  {
   "cell_type": "code",
   "execution_count": 7,
   "metadata": {},
   "outputs": [
    {
     "data": {
      "text/plain": [
       "tensor([6, 6,  ..., 7, 6])"
      ]
     },
     "execution_count": 7,
     "metadata": {},
     "output_type": "execute_result"
    }
   ],
   "source": [
    "target = amazon_product[:, -1].long()\n",
    "target"
   ]
  },
  {
   "cell_type": "code",
   "execution_count": 8,
   "metadata": {},
   "outputs": [
    {
     "data": {
      "text/plain": [
       "tensor([[0., 0.,  ..., 0., 0.],\n",
       "        [0., 0.,  ..., 0., 0.],\n",
       "        ...,\n",
       "        [0., 0.,  ..., 0., 0.],\n",
       "        [0., 0.,  ..., 0., 0.]])"
      ]
     },
     "execution_count": 8,
     "metadata": {},
     "output_type": "execute_result"
    }
   ],
   "source": [
    "target_onehot = torch.zeros(target.shape[0], 10)\n",
    "\n",
    "target_onehot.scatter_(1, target.unsqueeze(1), 1.0)"
   ]
  },
  {
   "cell_type": "code",
   "execution_count": 9,
   "metadata": {},
   "outputs": [
    {
     "data": {
      "text/plain": [
       "tensor([[6],\n",
       "        [6],\n",
       "        ...,\n",
       "        [7],\n",
       "        [6]])"
      ]
     },
     "execution_count": 9,
     "metadata": {},
     "output_type": "execute_result"
    }
   ],
   "source": [
    "target_unsqueezed = target.unsqueeze(1)\n",
    "target_unsqueezed"
   ]
  },
  {
   "cell_type": "code",
   "execution_count": 10,
   "metadata": {},
   "outputs": [
    {
     "data": {
      "text/plain": [
       "tensor([6.85e+00, 2.78e-01, 3.34e-01, 6.39e+00, 4.58e-02, 3.53e+01,\n",
       "        1.38e+02, 9.94e-01, 3.19e+00, 4.90e-01, 1.05e+01])"
      ]
     },
     "execution_count": 10,
     "metadata": {},
     "output_type": "execute_result"
    }
   ],
   "source": [
    "data_mean = torch.mean(data, dim=0)\n",
    "data_mean"
   ]
  },
  {
   "cell_type": "code",
   "execution_count": 11,
   "metadata": {},
   "outputs": [
    {
     "data": {
      "text/plain": [
       "tensor([7.12e-01, 1.02e-02, 1.46e-02, 2.57e+01, 4.77e-04, 2.89e+02,\n",
       "        1.81e+03, 8.95e-06, 2.28e-02, 1.30e-02, 1.51e+00])"
      ]
     },
     "execution_count": 11,
     "metadata": {},
     "output_type": "execute_result"
    }
   ],
   "source": [
    "data_var = torch.var(data, dim=0)\n",
    "data_var"
   ]
  },
  {
   "cell_type": "code",
   "execution_count": 12,
   "metadata": {},
   "outputs": [
    {
     "data": {
      "text/plain": [
       "tensor([[ 1.72e-01, -8.18e-02,  ..., -3.49e-01, -1.39e+00],\n",
       "        [-6.57e-01,  2.16e-01,  ...,  1.35e-03, -8.24e-01],\n",
       "        ...,\n",
       "        [-1.61e+00,  1.17e-01,  ..., -9.63e-01,  1.86e+00],\n",
       "        [-1.01e+00, -6.77e-01,  ..., -1.49e+00,  1.04e+00]])"
      ]
     },
     "execution_count": 12,
     "metadata": {},
     "output_type": "execute_result"
    }
   ],
   "source": [
    "data_normalized = (data - data_mean) / torch.sqrt(data_var)\n",
    "data_normalized"
   ]
  },
  {
   "cell_type": "code",
   "execution_count": 13,
   "metadata": {},
   "outputs": [
    {
     "data": {
      "text/plain": [
       "(torch.Size([4898]), torch.bool, tensor(20))"
      ]
     },
     "execution_count": 13,
     "metadata": {},
     "output_type": "execute_result"
    }
   ],
   "source": [
    "bad_indexes = target <= 3 # <1>\n",
    "bad_indexes.shape, bad_indexes.dtype, bad_indexes.sum()"
   ]
  },
  {
   "cell_type": "code",
   "execution_count": 14,
   "metadata": {},
   "outputs": [
    {
     "data": {
      "text/plain": [
       "torch.Size([20, 11])"
      ]
     },
     "execution_count": 14,
     "metadata": {},
     "output_type": "execute_result"
    }
   ],
   "source": [
    "bad_data = data[bad_indexes]\n",
    "bad_data.shape"
   ]
  },
  {
   "cell_type": "code",
   "execution_count": 15,
   "metadata": {},
   "outputs": [
    {
     "name": "stdout",
     "output_type": "stream",
     "text": [
      " 0 fixed acidity          7.60   6.89   6.73\n",
      " 1 volatile acidity       0.33   0.28   0.27\n",
      " 2 citric acid            0.34   0.34   0.33\n",
      " 3 residual sugar         6.39   6.71   5.26\n",
      " 4 chlorides              0.05   0.05   0.04\n",
      " 5 free sulfur dioxide   53.33  35.42  34.55\n",
      " 6 total sulfur dioxide 170.60 141.83 125.25\n",
      " 7 density                0.99   0.99   0.99\n",
      " 8 pH                     3.19   3.18   3.22\n",
      " 9 sulphates              0.47   0.49   0.50\n",
      "10 alcohol               10.34  10.26  11.42\n"
     ]
    }
   ],
   "source": [
    "bad_data = data[target <= 3]\n",
    "mid_data = data[(target > 3) & (target < 7)] # <1>\n",
    "good_data = data[target >= 7]\n",
    "\n",
    "bad_mean = torch.mean(bad_data, dim=0)\n",
    "mid_mean = torch.mean(mid_data, dim=0)\n",
    "good_mean = torch.mean(good_data, dim=0)\n",
    "\n",
    "for i, args in enumerate(zip(col_list, bad_mean, mid_mean, good_mean)):\n",
    "    print('{:2} {:20} {:6.2f} {:6.2f} {:6.2f}'.format(i, *args))"
   ]
  },
  {
   "cell_type": "code",
   "execution_count": 16,
   "metadata": {},
   "outputs": [
    {
     "data": {
      "text/plain": [
       "(torch.Size([4898]), torch.bool, tensor(2727))"
      ]
     },
     "execution_count": 16,
     "metadata": {},
     "output_type": "execute_result"
    }
   ],
   "source": [
    "total_sulfur_threshold = 141.83\n",
    "total_sulfur_data = data[:,6]\n",
    "predicted_indexes = torch.lt(total_sulfur_data, total_sulfur_threshold)\n",
    "\n",
    "predicted_indexes.shape, predicted_indexes.dtype, predicted_indexes.sum()"
   ]
  },
  {
   "cell_type": "code",
   "execution_count": 17,
   "metadata": {},
   "outputs": [
    {
     "data": {
      "text/plain": [
       "(torch.Size([4898]), torch.bool, tensor(3258))"
      ]
     },
     "execution_count": 17,
     "metadata": {},
     "output_type": "execute_result"
    }
   ],
   "source": [
    "actual_indexes = target > 5\n",
    "\n",
    "actual_indexes.shape, actual_indexes.dtype, actual_indexes.sum()"
   ]
  },
  {
   "cell_type": "code",
   "execution_count": 18,
   "metadata": {},
   "outputs": [
    {
     "data": {
      "text/plain": [
       "(2018, 0.74000733406674, 0.6193984039287906)"
      ]
     },
     "execution_count": 18,
     "metadata": {},
     "output_type": "execute_result"
    }
   ],
   "source": [
    "n_matches = torch.sum(actual_indexes & predicted_indexes).item()\n",
    "n_predicted = torch.sum(predicted_indexes).item()\n",
    "n_actual = torch.sum(actual_indexes).item()\n",
    "\n",
    "n_matches, n_matches / n_predicted, n_matches / n_actual"
   ]
  }
 ],
 "metadata": {
  "kernelspec": {
   "display_name": "Python 3 (ipykernel)",
   "language": "python",
   "name": "python3"
  },
  "language_info": {
   "codemirror_mode": {
    "name": "ipython",
    "version": 3
   },
   "file_extension": ".py",
   "mimetype": "text/x-python",
   "name": "python",
   "nbconvert_exporter": "python",
   "pygments_lexer": "ipython3",
   "version": "3.12.3"
  }
 },
 "nbformat": 4,
 "nbformat_minor": 4
}
