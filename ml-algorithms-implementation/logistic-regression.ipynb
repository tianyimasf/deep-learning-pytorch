{
 "cells": [
  {
   "cell_type": "code",
   "execution_count": 4,
   "id": "fa843aeb-63f1-4d7d-9169-b1944ccc88af",
   "metadata": {},
   "outputs": [],
   "source": [
    "import numpy as np\n",
    "import torch"
   ]
  },
  {
   "cell_type": "code",
   "execution_count": 71,
   "id": "f8dde80f-0ba9-4ab7-afd0-3bc0e4fbe988",
   "metadata": {},
   "outputs": [],
   "source": [
    "def LogisticRegressionModel():\n",
    "\n",
    "    def __init__(x, y, lr, num_features):\n",
    "        self.x = x\n",
    "        self.y = np.expand_dims(y, axis=1)\n",
    "        self.y_hat = np.zeros((len(self.x), 1))\n",
    "        self.loss = 0\n",
    "        self.lr = lr\n",
    "        self.num_features = num_features\n",
    "        self.w_grad = np.zeros((len(self.num_features), 1))\n",
    "        self.b_grad = 0\n",
    "        self.w = np.random.rand(self.num_features, 1)\n",
    "        self.b = np.random.rand()\n",
    "\n",
    "    # n -> num of features\n",
    "    # m -> num of records\n",
    "    # x -> [m, n]\n",
    "    # w -> [n, 1]\n",
    "    # y_hat -> w.T dot x -> [1, n] x [m, n] -> [m, 1]\n",
    "    def forward():\n",
    "        x = self.x\n",
    "        w = self.w\n",
    "        b = self.b\n",
    "        y_hat = 1/(1+np.exp(-np.sum(w.T*x, axis=1)+b))\n",
    "        self.y_hat = np.expand_dims(y_hat)\n",
    "    \n",
    "    def loss():\n",
    "        y = self.y\n",
    "        y_hat = self.y_hat\n",
    "        self.loss = -1/len(y)*np.sum(y*np.log(y_hat)+(1-y)*np.log(1-y_hat))\n",
    "    \n",
    "    def backward():\n",
    "        x = self.x\n",
    "        y = self.y\n",
    "        y_hat = self.y_hat\n",
    "        w_grad = 1/len(y)*np.sum((y_hat - y)*x, axis=0)\n",
    "        self.w_grad = np.expand_dims(w_grad, axis=1)\n",
    "        b_grad = 1/len(y)*np.sum(y_hat - y, axis=0)\n",
    "        self.b_grad = np.expand_dims(b_grad, axis=1)\n",
    "    \n",
    "    def step():\n",
    "        self.w = self.w - self.w_grad\n",
    "        self.b = self.b - self.b\n",
    "\n",
    "    def zero_grad():\n",
    "        self.w_grad = np.zeros((len(self.num_features), 1))\n",
    "        self.b = 0"
   ]
  }
 ],
 "metadata": {
  "kernelspec": {
   "display_name": "Python 3 (ipykernel)",
   "language": "python",
   "name": "python3"
  },
  "language_info": {
   "codemirror_mode": {
    "name": "ipython",
    "version": 3
   },
   "file_extension": ".py",
   "mimetype": "text/x-python",
   "name": "python",
   "nbconvert_exporter": "python",
   "pygments_lexer": "ipython3",
   "version": "3.12.3"
  }
 },
 "nbformat": 4,
 "nbformat_minor": 5
}
